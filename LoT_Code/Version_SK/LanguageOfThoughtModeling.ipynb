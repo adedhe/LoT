{
 "cells": [
  {
   "cell_type": "markdown",
   "id": "d7b8a146-f120-4971-8f3c-6d67875a1c4b",
   "metadata": {},
   "source": [
    "# The cell below is for 1-dimensional generation."
   ]
  },
  {
   "cell_type": "code",
   "execution_count": 1,
   "id": "9c0fa4dd-ca9c-4b7f-97e7-0a41e5e59b84",
   "metadata": {},
   "outputs": [],
   "source": [
    "import random\n",
    "import strsimpy\n",
    "\n",
    "def string_gen_iter(set: list) -> str:\n",
    "    \n",
    "    i = random.randint(0,1) # partition the list\n",
    "    j = random.randint(0,1) # idx of first in first set\n",
    "    k = random.randint(0,1) # idx of first in second set\n",
    "    return set[i*2 + j] + set[i*2 + (not j)] + set[(not i)*2 + k] + set[(not i)*2 + (not k)]\n",
    "\n",
    "\n",
    "    \n",
    "     \n",
    "def string_gen_alte(set: list) -> str:\n",
    "    string = \"\"\n",
    "    i = random.randint(0,1) # partition the list\n",
    "    j = random.randint(0,1) # idx of first in first set\n",
    "    k = random.randint(0,1) # idx of first in second set\n",
    "    string += set[i*2 + j] + set[(not i)*2 + k] + set[i*2 + (not j)]  + set[(not i)*2 + (not k)]\n",
    "    return string \n",
    "\n",
    "def string_gen_pali(set: list) -> str:\n",
    "    string = \"\"\n",
    "    i = random.randint(0,1) # partition the list\n",
    "    j = random.randint(0,1) # idx of first in first set\n",
    "    k = random.randint(0,1) # idx of first in second set\n",
    "    string += set[i*2 + j]+ set[(not i)*2 + k] + set[(not i)*2 + (not k)] + set[i*2 + (not j)] \n",
    "    return string\n",
    "\n",
    "def string_gen_rand(set: list) -> str:\n",
    "    return ''.join(random.sample(set, len(set))) # random.shuffle(set) doesn't return anything :(\n"
   ]
  },
  {
   "cell_type": "markdown",
   "id": "0017443f-d944-4844-827d-05d6b95f2613",
   "metadata": {},
   "source": [
    "# The cell below is for 2-dimensional generation."
   ]
  },
  {
   "cell_type": "code",
   "execution_count": 2,
   "id": "9b033572-c17e-4ee5-b55e-911e80707108",
   "metadata": {},
   "outputs": [],
   "source": [
    "def string_gen_stac(set: list) -> str:\n",
    "    i = random.randint(0,1) #letter-centered\n",
    "    j = random.randint(0,1) #letter goes first\n",
    "    k = random.randint(0,1) #which number goes first\n",
    "    if i: #letter-centered\n",
    "        string = set[0] + set[2] +set[3] + set[1]\n",
    "        if not j: #idx 0 goes first\n",
    "            if not k: #A1B1B2A2\n",
    "                return string\n",
    "            else: #A2B2B1A1\n",
    "                return string[::-1]\n",
    "        else:\n",
    "            if not k: #B1A1A2B2\n",
    "                return string[0:2][::-1] + string[2::][::-1]\n",
    "            else: #B2A2A1B1\n",
    "                return (string[0:2][::-1] + string[2::][::-1])[::-1]\n",
    "    else: #number-centered\n",
    "        string2 = set[0] + set[1] + set[3] + set[2]\n",
    "        if not k: #1 goes first\n",
    "            if not j: #A1A2B2B1\n",
    "                return string2\n",
    "            else: #B1B2A2A1\n",
    "                return string2[::-1]\n",
    "        else: #2 goes first\n",
    "            if not j: #A2A1B1B2\n",
    "                return string2[0:2][::-1] + string2[2::][::-1]\n",
    "            else: #B2B1A1A2\n",
    "                return (string2[0:2][::-1] + string2[2::][::-1])[::-1]\n",
    "    # Program shouldn't get to this point, so returning a long phrase will create an outlier value on the graph that can be easily visible\n",
    "    return \"Lorem ipsum dolor sit amet, consectetur adipiscing elit, sed do eiusmod tempor incididunt ut labore et dolore magna aliqua. Ut enim ad minim veniam, quis nostrud exercitation ullamco laboris nisi ut aliquip ex ea commodo consequat. Duis aute irure dolor in reprehenderit in voluptate velit esse cillum dolore eu fugiat nulla pariatur. Excepteur sint occaecat cupidatat non proident, sunt in culpa qui officia deserunt mollit anim id est laborum.\"   \n",
    "\n",
    "def string_gen_queu(set: list) -> str:\n",
    "    i = random.randint(0,1) #0 = letter,  1 = number (getting serial-crossed)\n",
    "    j = random.randint(0,1) #0 = A first, 1 = B first\n",
    "    k = random.randint(0,1) #0 = 1 first, 1 = 2 first\n",
    "    if not i:\n",
    "        string = set[0] + set[2] +set[1] + set[3]\n",
    "        if not j:\n",
    "            if not k: #A1B1A2B2\n",
    "                return string\n",
    "            else: #A2B2A1B1\n",
    "                return string[2::] + string[:2:]\n",
    "        else:\n",
    "            if not k: #B1A1B2A2\n",
    "                return string[:2:][::-1] + string[2::][::-1]\n",
    "            else: #B2A2B1A1\n",
    "                return string[::-1]\n",
    "    else:\n",
    "        string2 = set[0] + set[1] + set[2] + set[3]\n",
    "        if not j:\n",
    "            if not k: #A1A2B1B2\n",
    "                return string2\n",
    "            else: #A2A1B2B1\n",
    "                return string2[0:2][::-1] + string2[2::][::-1]\n",
    "        else:\n",
    "            if not k: #B1B2A1A2\n",
    "                return string2[2::] + string2[0:2:]\n",
    "            else: #B2B1A2A1\n",
    "                return string2[::-1]\n",
    "    # Program shouldn't get to this point, so returning a long phrase will create an outlier value on the graph that can be easily visible\n",
    "    return \"Lorem ipsum dolor sit amet, consectetur adipiscing elit, sed do eiusmod tempor incididunt ut labore et dolore magna aliqua. Ut enim ad minim veniam, quis nostrud exercitation ullamco laboris nisi ut aliquip ex ea commodo consequat. Duis aute irure dolor in reprehenderit in voluptate velit esse cillum dolore eu fugiat nulla pariatur. Excepteur sint occaecat cupidatat non proident, sunt in culpa qui officia deserunt mollit anim id est laborum.\"   "
   ]
  },
  {
   "cell_type": "markdown",
   "id": "e6bbd80f-614c-4888-9df3-87cd398e0dc0",
   "metadata": {},
   "source": [
    "# The cell below is in charge of simulating rounds."
   ]
  },
  {
   "cell_type": "code",
   "execution_count": 3,
   "id": "d5510dea-b97c-4759-83f9-ce65cebcee02",
   "metadata": {},
   "outputs": [],
   "source": [
    "# strings_per_set should be 6\n",
    "def sim_round_lev(set1: list, set2: list, set3: list, process: str, strings_per_set = 6): # returns [average_similarity,num_unique_sequences]\n",
    "    if process == 2: #pali\n",
    "        set = [string_gen_pali(set1) for _ in range(strings_per_set)];\n",
    "        set = set + [string_gen_pali(set2) for _ in range(strings_per_set)];\n",
    "        set = set + [string_gen_pali(set3) for _ in range(strings_per_set)];\n",
    "    elif process == 1: #alte\n",
    "        set = [string_gen_alte(set1) for _ in range(strings_per_set)];\n",
    "        set = set + [string_gen_alte(set2) for _ in range(strings_per_set)];\n",
    "        set = set + [string_gen_alte(set3) for _ in range(strings_per_set)];\n",
    "    elif process == 0: #iter\n",
    "        set = [string_gen_iter(set1) for _ in range(strings_per_set)];\n",
    "        set = set + [string_gen_iter(set2) for _ in range(strings_per_set)];\n",
    "        set = set + [string_gen_iter(set3) for _ in range(strings_per_set)];\n",
    "    elif process == 3: #rand\n",
    "        set = [string_gen_rand(set1) for _ in range(strings_per_set)];\n",
    "        set = set + [string_gen_rand(set2) for _ in range(strings_per_set)];\n",
    "        set = set + [string_gen_rand(set3) for _ in range(strings_per_set)];\n",
    "    elif process == 4: # STACKS\n",
    "        set = [string_gen_stac(set1) for _ in range(strings_per_set)];\n",
    "        set = set + [string_gen_stac(set2) for _ in range(strings_per_set)];\n",
    "        set = set + [string_gen_stac(set3) for _ in range(strings_per_set)];\n",
    "    elif process == 5: # QUEUES\n",
    "        set = [string_gen_queu(set1) for _ in range(strings_per_set)];\n",
    "        set = set + [string_gen_queu(set2) for _ in range(strings_per_set)];\n",
    "        set = set + [string_gen_queu(set3) for _ in range(strings_per_set)];\n",
    "    \n",
    "    return set\n",
    " # note len() 17 + 16 + ... + 1 = 153\n",
    "\n"
   ]
  },
  {
   "cell_type": "code",
   "execution_count": 4,
   "id": "13806fa9-0cce-4764-8285-44fbb099f9a7",
   "metadata": {},
   "outputs": [],
   "source": [
    "def compute_uniques(arr):\n",
    "    num_unique_sequences = 0\n",
    "    for i in range(len(arr)):\n",
    "        unique = True\n",
    "        for j in range(len(arr)):\n",
    "            if arr[i] == arr[j] and i != j:\n",
    "                unique = False\n",
    "        if unique:\n",
    "            num_unique_sequences += 1\n",
    "    return num_unique_sequences \n",
    "\n",
    "def compute_levenshtein(arr):\n",
    "    normalized_levenshtein = strsimpy.NormalizedLevenshtein()\n",
    "    levenshtein_dists = []\n",
    "    for i in range(len(arr)):\n",
    "        for j in range(i+1, len(arr)):\n",
    "            levenshtein_dists.append(normalized_levenshtein.similarity(arr[i],arr[j]))\n",
    "    return levenshtein_dists\n"
   ]
  },
  {
   "cell_type": "markdown",
   "id": "e5e687b1-343c-40e6-8a41-d505efcdfbae",
   "metadata": {},
   "source": [
    "Simulations (computationally intensive, takes about 5 minutes to run)"
   ]
  },
  {
   "cell_type": "code",
   "execution_count": 5,
   "id": "53b677f7-5053-4dbf-ab1d-b4a57fccb7b1",
   "metadata": {},
   "outputs": [],
   "source": [
    "import pandas as pd\n",
    "from plotnine import ggplot, aes, geom_bar, stat_bin, ggsave, ggtitle\n",
    "import matplotlib.pyplot as plt\n",
    "import os\n",
    "import numpy as np\n",
    "\n",
    "set1 = [\"a\",\"b\",\"c\",\"d\"]\n",
    "set2 = [\"c\",\"d\",\"e\",\"f\"]\n",
    "set3 = [\"e\",\"f\",\"a\",\"b\"]\n",
    "num_rounds = 1000\n",
    "myset = {}\n",
    "uniques = {}\n",
    "sim_avgs = {}\n",
    "for i in range(1):\n",
    "    for j in range(num_rounds):\n",
    "        tmpset = sim_round_lev(set1, set2, set3, i, 6)\n",
    "        num_unique_sequences = compute_uniques(tmpset)\n",
    "        levenshtein_dists = compute_levenshtein(tmpset)\n",
    "        uniques[i] = uniques.get(i, []) + [num_unique_sequences]\n",
    "        sim_avgs[i] = sim_avgs.get(i, []) + [sum(levenshtein_dists) / len(levenshtein_dists)]\n",
    "        myset[i] = myset.get(i, []) + tmpset\n",
    "\n",
    "\n"
   ]
  },
  {
   "cell_type": "code",
   "execution_count": 6,
   "id": "a0a4278d-ab45-428b-b125-157f4844271a",
   "metadata": {},
   "outputs": [
    {
     "data": {
      "image/png": "[encoded data removed]",
      "text/plain": [
       "<Figure size 640x480 with 1 Axes>"
      ]
     },
     "metadata": {},
     "output_type": "display_data"
    },
    {
     "data": {
      "image/png": "[encoded data removed]"
     },
     "metadata": {
      "image/png": {
       "height": 480,
       "width": 640
      }
     },
     "output_type": "display_data"
    },
    {
     "name": "stdout",
     "output_type": "stream",
     "text": [
      "Mean: 9.277\n",
      "Lower 95 CI: 4.542499023181059\n",
      "Upper 95 CI: 14.01150097681894\n"
     ]
    },
    {
     "name": "stderr",
     "output_type": "stream",
     "text": [
      "C:\\Users\\kulka\\AppData\\Local\\Packages\\PythonSoftwareFoundation.Python.3.10_qbz5n2kfra8p0\\LocalCache\\local-packages\\Python310\\site-packages\\plotnine\\ggplot.py:606: PlotnineWarning: Saving 6.4 x 4.8 in image.\n",
      "C:\\Users\\kulka\\AppData\\Local\\Packages\\PythonSoftwareFoundation.Python.3.10_qbz5n2kfra8p0\\LocalCache\\local-packages\\Python310\\site-packages\\plotnine\\ggplot.py:607: PlotnineWarning: Filename: C:\\Users\\kulka\\Documents\\Dedhe Internship\\cogsci-code\\20240603 Language Of Thought Modeling\\uniques0.png\n"
     ]
    }
   ],
   "source": [
    "#Visualization\n",
    "for i in range(1):\n",
    "    plt.hist(myset[i])\n",
    "    plt.show()\n",
    "    \n",
    "    \n",
    "    \"\"\"\n",
    "    sa = pd.DataFrame(sim_avgs)\n",
    "    plot_sa = ggplot(sa) + aes(x=sa[0]) + stat_bin(bins=1000) + geom_bar() + ggtitle(f'Simulation Averages for i={i}')\n",
    "    plot_sa.show()\n",
    "    print(sa.describe())\n",
    "    std = sa[0].std()\n",
    "    mean = sa[0].mean()\n",
    "    print(\"Lower 95 CI:\", mean - 2 * std)\n",
    "    print(\"Upper 95 CI:\", mean + 2 * std)\n",
    "    plot_sa.save(filename=\"sim_avg\" + str(i) + \".png\", path=os.getcwd())\n",
    "    \"\"\"\n",
    "    \n",
    "    un = pd.DataFrame(uniques[i])\n",
    "    plot_un = ggplot(un) + aes(x=un[0]) + stat_bin(bins=10) + geom_bar() + ggtitle(f'Uniques for i={i}')\n",
    "    plot_un.show()  # Display the plot\n",
    "    stdu  = un[0].std()\n",
    "    meanu = un[0].mean()\n",
    "    print(\"Mean:\",meanu)\n",
    "    print(\"Lower 95 CI:\", meanu - 2 * stdu)\n",
    "    print(\"Upper 95 CI:\", meanu + 2 * stdu)\n",
    "    plot_un.save(filename=\"uniques\" + str(i) + \".png\", path=os.getcwd())"
   ]
  }
 ],
 "metadata": {
  "kernelspec": {
   "display_name": "Python 3 (ipykernel)",
   "language": "python",
   "name": "python3"
  },
  "language_info": {
   "codemirror_mode": {
    "name": "ipython",
    "version": 3
   },
   "file_extension": ".py",
   "mimetype": "text/x-python",
   "name": "python",
   "nbconvert_exporter": "python",
   "pygments_lexer": "ipython3",
   "version": "3.10.11"
  }
 },
 "nbformat": 4,
 "nbformat_minor": 5
}
